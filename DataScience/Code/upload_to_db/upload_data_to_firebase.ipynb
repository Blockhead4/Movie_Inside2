{
 "cells": [
  {
   "cell_type": "code",
   "execution_count": 2,
   "metadata": {},
   "outputs": [],
   "source": [
    "import csv\n",
    "import json\n",
    "import os"
   ]
  },
  {
   "cell_type": "code",
   "execution_count": 3,
   "metadata": {},
   "outputs": [],
   "source": [
    "data_path = r\"C:\\Users\\Jwp\\Desktop\\workspace\\Movie_Inside2\\DataScience\\Data\\movie\\moviePoster\"\n",
    "score_path = r\"C:\\Users\\Jwp\\Desktop\\workspace\\Movie_Inside2\\DataScience\\Data\\emotion\\emotion_score\"\n",
    "save_path = r\"C:\\Users\\Jwp\\Desktop\\workspace\\Movie_Inside2\\DataScience\\Data\\firebase_db\""
   ]
  },
  {
   "cell_type": "code",
   "execution_count": null,
   "metadata": {},
   "outputs": [],
   "source": []
  },
  {
   "cell_type": "code",
   "execution_count": null,
   "metadata": {},
   "outputs": [],
   "source": [
    "movies = open(os.path.join(data_path, \"movie_info_all2.csv\"), 'r', encoding=\"utf-8\")\n",
    "jsonfile = open('movieInfo.json', 'w', encoding=\"utf-8\")\n",
    "movies_json = open('movieInfo.json', 'w', encoding=\"utf-8\")"
   ]
  },
  {
   "cell_type": "code",
   "execution_count": null,
   "metadata": {},
   "outputs": [],
   "source": [
    "fieldnames = (\"FirstName\",\"LastName\",\"IDNumber\",\"Message\")\n",
    "reader = csv.DictReader( csvfile, fieldnames)\n",
    "for row in reader:\n",
    "    json.dump(row, movies_json)\n",
    "    movies_json.write('\\n')"
   ]
  },
  {
   "cell_type": "code",
   "execution_count": null,
   "metadata": {},
   "outputs": [],
   "source": []
  }
 ],
 "metadata": {
  "kernelspec": {
   "display_name": "movie-inside",
   "language": "python",
   "name": "movie-inside"
  },
  "language_info": {
   "codemirror_mode": {
    "name": "ipython",
    "version": 3
   },
   "file_extension": ".py",
   "mimetype": "text/x-python",
   "name": "python",
   "nbconvert_exporter": "python",
   "pygments_lexer": "ipython3",
   "version": "3.6.9"
  }
 },
 "nbformat": 4,
 "nbformat_minor": 2
}
